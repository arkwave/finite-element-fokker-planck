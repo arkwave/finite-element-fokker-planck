{
  "nbformat": 4,
  "nbformat_minor": 0,
  "metadata": {
    "colab": {
      "name": "pde param plot.ipynb",
      "provenance": [],
      "collapsed_sections": []
    },
    "kernelspec": {
      "name": "python377jvsc74a57bd080f033b84c595b92457f6eb3e2a17206d77924c615672063ee6e63f715abd28e",
      "display_name": "Python 3.7.7 64-bit ('mlgen': conda)"
    },
    "language_info": {
      "name": "python",
      "version": "3.7.7-final"
    }
  },
  "cells": [
    {
      "cell_type": "code",
      "metadata": {
        "id": "SHSB6XkLLmRz"
      },
      "source": [
        "import pandas as pd\n",
        "import matplotlib.pyplot as plt\n",
        "import numpy as np"
      ],
      "execution_count": 1,
      "outputs": []
    },
    {
      "cell_type": "code",
      "metadata": {
        "id": "B5fS4bC0MNqR"
      },
      "source": [
        "data = pd.read_csv('/content/results_final.csv')"
      ],
      "execution_count": 2,
      "outputs": []
    },
    {
      "cell_type": "code",
      "metadata": {
        "id": "Y_Lb_1vZMevj"
      },
      "source": [
        "#Get rid of the '\\n' in the data\n",
        "\n",
        "data = data.replace('\\n','', regex=True) \n",
        "data = data.replace('\\r', '', regex=True)"
      ],
      "execution_count": 3,
      "outputs": []
    },
    {
      "cell_type": "code",
      "metadata": {
        "id": "WF9YBeH8mbUp",
        "colab": {
          "base_uri": "https://localhost:8080/"
        },
        "outputId": "7afd74f4-4f03-41bf-dbd5-636745723f76"
      },
      "source": [
        "np.asarray(np.matrix(data.sol[0])).flatten() "
      ],
      "execution_count": 4,
      "outputs": [
        {
          "output_type": "execute_result",
          "data": {
            "text/plain": [
              "array([-98.99727937, -80.81590316, -59.33472761, -40.54628748,\n",
              "       -19.54842635,  -0.37386838,  20.30782531,  39.74963143,\n",
              "        60.20016319,  79.84324401, 100.11978177, 119.90204604,\n",
              "       140.00075103, 159.59909261, 178.63535713, 195.71814051,\n",
              "       209.68379363, 219.43119896, 225.33930754, 228.55884647,\n",
              "       230.32191015])"
            ]
          },
          "metadata": {
            "tags": []
          },
          "execution_count": 4
        }
      ]
    },
    {
      "cell_type": "code",
      "metadata": {
        "id": "9_rVOf7SQZcQ"
      },
      "source": [
        "#Converting to list for plotty plot plots\n",
        "for i in range(data.shape[0]):\n",
        "  data.xvals[i] = np.asarray(np.matrix(data.xvals[i])).flatten() \n",
        "  data.sol[i] = np.asarray(np.matrix(data.sol[i])).flatten() \n",
        "  data.num_steps[i] = np.asarray(np.matrix(data.num_steps[i])).flatten() "
      ],
      "execution_count": null,
      "outputs": []
    },
    {
      "cell_type": "code",
      "metadata": {
        "id": "whMR2_474Qd4",
        "colab": {
          "base_uri": "https://localhost:8080/",
          "height": 616
        },
        "outputId": "9bce71bf-67e6-4a52-e7d1-581dca7e0dbc"
      },
      "source": [
        "L = 200\n",
        "t_0 = 0\n",
        "t_final = 100\n",
        "u_true = lambda x,t: x+t\n",
        "ms = [20,90,160,230,300,370,440,510,580,650,720,790,860,930]\n",
        "ms = np.asarray(ms)\n",
        "\n",
        "#Corresponding entries # in the data row with the ms\n",
        "comb = [13,27,41,55,69,83,97,111,125,139,153,167,181,195]\n",
        "comb = np.asarray(comb)\n",
        "\n",
        "gg = np.stack((ms,comb),axis=-1)\n",
        "\n",
        "errors = [] \n",
        "delta_xs = []\n",
        "order_C = lambda delta_x, error, order: np.exp(np.log(error) - order * np.log(delta_x))\n",
        "\n",
        "\n",
        "for m,c in gg:\n",
        "  x = np.linspace(-L, L, m+1)\n",
        "  delta_x = L / float(m)\n",
        "  delta_xs.append(delta_x)\n",
        "\n",
        "  approx_sol = data.sol[c]\n",
        "  true_sol = u_true(data.xvals[c], t_final)\n",
        "  diff = np.linalg.norm(approx_sol - true_sol)\n",
        "  errors.append(diff)\n",
        "\n",
        "plt.figure(figsize=(10,10))\n",
        "plt.loglog(delta_xs, errors, 'ko', label='True Error')\n",
        "plt.xlabel('$\\Delta$ x')\n",
        "plt.ylabel('Error')\n",
        "\n",
        "delta_xs = np.array(delta_xs)\n",
        "errors = np.array(errors)"
      ],
      "execution_count": 26,
      "outputs": [
        {
          "output_type": "display_data",
          "data": {
            "image/png": "[encoded data removed]",
            "text/plain": [
              "<Figure size 720x720 with 1 Axes>"
            ]
          },
          "metadata": {
            "tags": [],
            "needs_background": "light"
          }
        }
      ]
    },
    {
      "cell_type": "code",
      "metadata": {
        "id": "iijmzWveJ2T4"
      },
      "source": [
        ""
      ],
      "execution_count": 6,
      "outputs": []
    }
  ]
}